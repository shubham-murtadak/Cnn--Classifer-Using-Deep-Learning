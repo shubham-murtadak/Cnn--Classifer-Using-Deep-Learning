{
 "cells": [
  {
   "cell_type": "code",
   "execution_count": 1,
   "id": "be67666d",
   "metadata": {},
   "outputs": [],
   "source": [
    "from collections import namedtuple\n",
    "import os \n",
    "\n"
   ]
  },
  {
   "cell_type": "code",
   "execution_count": 2,
   "id": "49e1adb9",
   "metadata": {},
   "outputs": [
    {
     "data": {
      "text/plain": [
       "'d:\\\\personal\\\\Personal_Projects\\\\Cnn-Cat-dog_Classifier_Deep_Learning\\\\research'"
      ]
     },
     "execution_count": 2,
     "metadata": {},
     "output_type": "execute_result"
    }
   ],
   "source": [
    "os.getcwd()"
   ]
  },
  {
   "cell_type": "code",
   "execution_count": 3,
   "id": "631c363c",
   "metadata": {},
   "outputs": [],
   "source": [
    "os.chdir(\"../\")"
   ]
  },
  {
   "cell_type": "code",
   "execution_count": 4,
   "id": "561fdeb0",
   "metadata": {},
   "outputs": [
    {
     "data": {
      "text/plain": [
       "'d:\\\\personal\\\\Personal_Projects\\\\Cnn-Cat-dog_Classifier_Deep_Learning'"
      ]
     },
     "execution_count": 4,
     "metadata": {},
     "output_type": "execute_result"
    }
   ],
   "source": [
    "%pwd"
   ]
  },
  {
   "cell_type": "code",
   "execution_count": 5,
   "id": "05e7eda5",
   "metadata": {},
   "outputs": [],
   "source": [
    "DataIngestionConfig=namedtuple(\"DataIngestionConfig\",[\n",
    "    \"root_dir\",\n",
    "    \"source_URL\",\n",
    "    \"local_data_file\",\n",
    "    \"unzip_dir\"\n",
    "])"
   ]
  },
  {
   "cell_type": "code",
   "execution_count": null,
   "id": "5f0ad816",
   "metadata": {},
   "outputs": [],
   "source": [
    "from dataclasses import dataclass \n",
    "from pathlib import Path "
   ]
  },
  {
   "cell_type": "code",
   "execution_count": null,
   "id": "f757cb33",
   "metadata": {},
   "outputs": [],
   "source": [
    "@dataclass(frozen=True)\n",
    "class DataIngestoionConfig:\n",
    "    root_dir:Path \n",
    "    source_URL:str\n",
    "    local_data_file:Path \n",
    "    unzip_dir:Path "
   ]
  },
  {
   "cell_type": "code",
   "execution_count": 8,
   "id": "de803f14",
   "metadata": {},
   "outputs": [],
   "source": [
    "from cnnClassifier.constants import *\n",
    "from cnnClassifier.utils import read_yaml,create_directories"
   ]
  },
  {
   "cell_type": "code",
   "execution_count": 9,
   "id": "375019ea",
   "metadata": {},
   "outputs": [],
   "source": [
    "class ConfigurationManager:\n",
    "\n",
    "    def __init__(\n",
    "            self,\n",
    "            config_filepath=CONFIG_FILE_PATH,\n",
    "            params_filepath=PARAMS_FILE_PATH):\n",
    "        \n",
    "            self.config=read_yaml(config_filepath)\n",
    "            self.params=read_yaml(params_filepath)\n",
    "\n",
    "            create_directories([self.config.artifacts_root])  #define at config:__init__.py\n",
    "\n",
    "    \n",
    "\n",
    "    def get_data_ingestion_config(self)->DataIngestionConfig:\n",
    "          config=self.config.data_ingestion\n",
    "\n",
    "          create_directories([config.root_dir])\n",
    "\n",
    "          data_ingestion_config=DataIngestionConfig(\n",
    "                root_dir=config.root_dir,\n",
    "                source_URL=config.source_URL,\n",
    "                local_data_file=config.local_data_file,\n",
    "                unzip_dir=config.unzip_dir\n",
    "          )\n",
    "\n",
    "          return data_ingestion_config\n",
    "        \n",
    "        "
   ]
  },
  {
   "cell_type": "code",
   "execution_count": 10,
   "id": "8c58ccd4",
   "metadata": {},
   "outputs": [],
   "source": [
    "import os \n",
    "import urllib.request as request \n",
    "from zipfile import ZipFile "
   ]
  },
  {
   "cell_type": "code",
   "execution_count": 11,
   "id": "1f52ce2b",
   "metadata": {},
   "outputs": [],
   "source": [
    "class DataIngestion:\n",
    "    def __init__(self,config: DataIngestionConfig):\n",
    "        self.config=config\n",
    "\n",
    "    \n",
    "    def download_file(self):\n",
    "        if not os.path.exists(self.config.local_data_file):\n",
    "            filename,headers=request.urlretrieve(\n",
    "                url=self.config.source_URL,\n",
    "                filename=self.config.local_data_file\n",
    "\n",
    "            )\n",
    "\n",
    "    def _get_updated_list_of_files(self,list_of_files):\n",
    "        return [f for f in list_of_files if f.endswith(\".jpg\") and (\"cat\" in f or \"Dog\" in f)]\n",
    "    \n",
    "    def _preprocess(self,zf:ZipFile,f:str,working_dir:str):\n",
    "        target_filepath=os.path.join(working_dir,f)\n",
    "\n",
    "        if not os.path.exists(target_filepath):\n",
    "            zf.extract(f,working_dir)\n",
    "        \n",
    "        if os.path.getsize(target_filepath)==0:\n",
    "            os.remove(target_filepath)\n",
    "\n",
    "        \n",
    "    def unzip_and_clean(self):\n",
    "        with ZipFile(file=self.config.local_data_file,mode=\"r\") as zf:\n",
    "                    list_of_files = zf.namelist()\n",
    "                    updated_list_of_files=self._get_updated_list_of_files(list_of_files)\n",
    "\n",
    "                    for f in updated_list_of_files:\n",
    "                        self._preprocess(zf,f,self.config.unzip_dir)\n",
    "                    \n",
    "                        \n",
    "                        \n",
    "\n"
   ]
  },
  {
   "cell_type": "code",
   "execution_count": 12,
   "id": "622f0675",
   "metadata": {},
   "outputs": [
    {
     "data": {
      "text/plain": [
       "'\\nx/y/Cat/1.jpg ->get accepted\\nx/y/1.jpg  ->get ignore\\n\\n'"
      ]
     },
     "execution_count": 12,
     "metadata": {},
     "output_type": "execute_result"
    }
   ],
   "source": [
    "'''\n",
    "x/y/Cat/1.jpg ->get accepted\n",
    "x/y/1.jpg  ->get ignore\n",
    "\n",
    "'''"
   ]
  },
  {
   "cell_type": "code",
   "execution_count": 13,
   "id": "b3dab328",
   "metadata": {},
   "outputs": [
    {
     "name": "stdout",
     "output_type": "stream",
     "text": [
      "[2025-04-06 10:23:33,555: INFO: common: yaml file :config\\config.yaml loaded successfully ]\n",
      "[2025-04-06 10:23:33,557: INFO: common: yaml file :params.yaml loaded successfully ]\n",
      "[2025-04-06 10:23:33,559: INFO: common: created directory at artifacts]\n",
      "[2025-04-06 10:23:33,561: INFO: common: created directory at artifacts/data_ingestion]\n"
     ]
    }
   ],
   "source": [
    "try:\n",
    "    config=ConfigurationManager()\n",
    "    data_ingestion_config=config.get_data_ingestion_config()\n",
    "    data_ingestion=DataIngestion(config=data_ingestion_config)\n",
    "    data_ingestion.download_file()\n",
    "    data_ingestion.unzip_and_clean()\n",
    "\n",
    "except Exception as e:\n",
    "    raise e "
   ]
  },
  {
   "cell_type": "code",
   "execution_count": 23,
   "id": "be80f657",
   "metadata": {},
   "outputs": [
    {
     "name": "stdout",
     "output_type": "stream",
     "text": [
      " Volume in drive D is New Volume\n",
      " Volume Serial Number is D6C8-3FC2\n",
      "\n",
      " Directory of d:\\personal\\Personal_Projects\\Cnn-Cat-dog_Classifier_Deep_Learning\\research\n",
      "\n",
      "04/05/2025  09:50 PM    <DIR>          .\n",
      "04/05/2025  09:50 PM    <DIR>          ..\n",
      "04/05/2025  09:50 PM    <DIR>          logs\n",
      "04/05/2025  03:46 PM                 0 st_01.ipynb\n",
      "04/02/2025  03:54 PM                 0 trials.ipynb\n",
      "               2 File(s)              0 bytes\n",
      "               3 Dir(s)  14,522,961,920 bytes free\n"
     ]
    }
   ],
   "source": [
    "ls"
   ]
  },
  {
   "cell_type": "code",
   "execution_count": null,
   "id": "c12733a3",
   "metadata": {},
   "outputs": [],
   "source": []
  }
 ],
 "metadata": {
  "kernelspec": {
   "display_name": "cnnenv",
   "language": "python",
   "name": "python3"
  },
  "language_info": {
   "codemirror_mode": {
    "name": "ipython",
    "version": 3
   },
   "file_extension": ".py",
   "mimetype": "text/x-python",
   "name": "python",
   "nbconvert_exporter": "python",
   "pygments_lexer": "ipython3",
   "version": "3.11.9"
  }
 },
 "nbformat": 4,
 "nbformat_minor": 5
}
